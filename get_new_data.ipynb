{
 "cells": [
  {
   "cell_type": "markdown",
   "metadata": {},
   "source": [
    "##### Automate to get new data"
   ]
  },
  {
   "cell_type": "code",
   "execution_count": 1,
   "metadata": {},
   "outputs": [],
   "source": [
    "#Import Libraries\n",
    "import pandas as pd\n",
    "from datetime import datetime\n",
    "import os\n",
    "from sqlalchemy import create_engine, String, DateTime, Integer\n",
    "from dotenv import load_dotenv\n",
    "import requests as rq"
   ]
  },
  {
   "cell_type": "code",
   "execution_count": 2,
   "metadata": {},
   "outputs": [],
   "source": [
    "# Get the current season\n",
    "current_date = datetime.now()\n",
    "formated_date = int(current_date.strftime('%Y'))\n",
    "season = str(formated_date)[2:]+str(formated_date+1)[2:]\n",
    "\n",
    "# Create the url formatting strings for the 3 leagues\n",
    "data_url = {\n",
    "    'Premiership' : f'https://www.football-data.co.uk/mmz4281/{season}/E0.csv',\n",
    "    'Championship' : f'https://www.football-data.co.uk/mmz4281/{season}/E1.csv',\n",
    "    'League_1' : f'https://www.football-data.co.uk/mmz4281/{season}/E2.csv'\n",
    "}\n",
    "schemaa = 'GoalBet'"
   ]
  },
  {
   "cell_type": "code",
   "execution_count": 3,
   "metadata": {},
   "outputs": [],
   "source": [
    "# Credentials\n",
    "load_dotenv(override=True)\n",
    "\n",
    "hostname = os.getenv('hostname')\n",
    "username = os.getenv('username')\n",
    "password = os.getenv('password')\n",
    "port = os.getenv('port')\n",
    "db_name = os.getenv('db_name')\n",
    "\n",
    "# Create the DB engine\n",
    "db_url = f'postgresql+psycopg2://{username}:{password}@{hostname}:{port}/{db_name}'\n",
    "engine = create_engine(db_url)"
   ]
  },
  {
   "cell_type": "code",
   "execution_count": 4,
   "metadata": {},
   "outputs": [],
   "source": [
    "# Define fields to extract\n",
    "fields_to_extract = ['Div', 'Date', 'Time', 'HomeTeam', 'AwayTeam', 'FTHG', 'FTAG']\n",
    "directories = ['Premiership', 'Championship', 'League_1']"
   ]
  },
  {
   "cell_type": "code",
   "execution_count": 5,
   "metadata": {},
   "outputs": [],
   "source": [
    "# Function to get maximum date from the database\n",
    "def get_max_date(league):\n",
    "    query = f'SELECT MAX(\"Date\") FROM \"{schemaa}\".\"{league}\"'\n",
    "    max_date_df = pd.read_sql_query(query, engine)\n",
    "    return max_date_df.iloc[0, 0]"
   ]
  },
  {
   "cell_type": "code",
   "execution_count": 6,
   "metadata": {},
   "outputs": [],
   "source": [
    "def read_and_load_football(url, league, season):\n",
    "    # Get the maximum date from the database\n",
    "    max_date = get_max_date(league)\n",
    "\n",
    "    # Read the CSV file into a DataFrame\n",
    "    response = rq.get(url, timeout=10)\n",
    "    if response.status_code == 200:\n",
    "        try:\n",
    "            season_data = pd.read_csv(url, usecols=fields_to_extract)\n",
    "            season_data.insert(1, 'season', season)\n",
    "            \n",
    "            # Filter for dates greater than the maximum date\n",
    "            season_data['Date'] = pd.to_datetime(season_data['Date'], dayfirst=True)\n",
    "            filtered_data = season_data[season_data['Date'] > max_date]\n",
    "            \n",
    "            if not filtered_data.empty:\n",
    "                # Load the filtered data into the database\n",
    "                #print(filtered_data)\n",
    "                filtered_data.to_sql(league, engine, if_exists='append', index=False)\n",
    "                print(f'Loaded new data for {season} into {league}.')\n",
    "            else:\n",
    "                print(f'No new data to load for season {season} in {league}.')\n",
    "        \n",
    "        except (ValueError, UnicodeDecodeError) as e:\n",
    "            print(f\"Error reading data for {league}: {e}\")\n",
    "    else:\n",
    "        print(f'File not found for the season {season} in {league}.')"
   ]
  },
  {
   "cell_type": "code",
   "execution_count": 7,
   "metadata": {},
   "outputs": [
    {
     "name": "stdout",
     "output_type": "stream",
     "text": [
      "No new data to load for season 2425 in Premiership.\n",
      "No new data to load for season 2425 in Championship.\n",
      "No new data to load for season 2425 in League_1.\n"
     ]
    }
   ],
   "source": [
    "for league in directories:\n",
    "    read_and_load_football(data_url[league], league, season)"
   ]
  },
  {
   "cell_type": "code",
   "execution_count": null,
   "metadata": {},
   "outputs": [],
   "source": []
  }
 ],
 "metadata": {
  "kernelspec": {
   "display_name": "base",
   "language": "python",
   "name": "python3"
  },
  "language_info": {
   "codemirror_mode": {
    "name": "ipython",
    "version": 3
   },
   "file_extension": ".py",
   "mimetype": "text/x-python",
   "name": "python",
   "nbconvert_exporter": "python",
   "pygments_lexer": "ipython3",
   "version": "3.12.4"
  }
 },
 "nbformat": 4,
 "nbformat_minor": 2
}
